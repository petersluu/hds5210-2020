{
 "cells": [
  {
   "cell_type": "markdown",
   "metadata": {},
   "source": [
    "# Week 10 Assignment"
   ]
  },
  {
   "cell_type": "markdown",
   "metadata": {},
   "source": [
    "We had two major areas of discussion this week.  The first was all about how to work with string data - parsing and splitting strings using basic string fuctions as well as more complex string matching using regular expressions.  The second was a basic introduction to Pandas with a few different examples of how to load data into Pandas and then visualize it using graphs (histogram, distribution, scatter, bar, timeseries).\n",
    "\n",
    "* 36.1 - 1 point\n",
    "* 36.2 - 1 point\n",
    "* 38.1 - 3 points"
   ]
  },
  {
   "cell_type": "markdown",
   "metadata": {},
   "source": [
    "## 36.1 String Manipulation\n",
    "\n",
    "Write a function that will parse an address that includes one or two parts of street information, a city, a state, and a zip code -- all separated by commas.  You can assume that commas won't appear as part of the address information, only as a delimiter.  Here are some examples:\n",
    "\n",
    "823 Pebble Street, St. Louis, MO 63105\n",
    "\n",
    "91 Cityplace, Suite #33, St. Louis, MO 63144\n",
    "\n",
    "81234 Homeroad, Kansas City, MO 62441\n",
    "\n",
    "\n",
    "The output you should generate will be a dictionary with the following possible items.\n",
    "\n",
    "```\n",
    "{\n",
    "  'street1': '91 Cityplace',\n",
    "  'street2': 'Suite #33',\n",
    "  'city': 'St. Louis',\n",
    "  'state': 'MO',\n",
    "  'zip': '63122'\n",
    "}\n",
    "```\n",
    "\n",
    "Declare your function like this:\n",
    "```\n",
    "parse_address(address)\n",
    "```"
   ]
  },
  {
   "cell_type": "code",
   "execution_count": 137,
   "metadata": {},
   "outputs": [],
   "source": [
    "### YOUR SOLUTION\n",
    "def parse_address(address):\n",
    "    '''(str) -> dict\n",
    "    This function split the adress string by ',' into a list and assign the value to each key of the address.\n",
    "    Street information can have 1 or 2 parts.\n",
    "    The string should be in a format of street1, (street2), city, state zipcode\n",
    "    '''\n",
    "    \n",
    "    line = [x.strip() for x in address.split(',')]\n",
    "    line.append(line[-1].split(' ')[1])\n",
    "    line[-2]=line[-2].split(' ')[0]\n",
    "    key=['street1','street2','city','state','zip']\n",
    "    address={} \n",
    "    if len(line)==4:\n",
    "        key.remove(key[1])\n",
    "    for i in range (0,len(line)):\n",
    "        address[key[i]]=line[i]\n",
    "    return address\n",
    "\n"
   ]
  },
  {
   "cell_type": "markdown",
   "metadata": {},
   "source": [
    "## 36.2 Test the Address Parser\n",
    "\n",
    "Now write a series of good tests to ensure that your addres parser is going to work with a variety of different inputs.  Include at least 5 different examples."
   ]
  },
  {
   "cell_type": "code",
   "execution_count": 138,
   "metadata": {},
   "outputs": [
    {
     "name": "stdout",
     "output_type": "stream",
     "text": [
      "{'street1': '823 Pebble Street', 'city': 'St. Louis', 'state': 'MO', 'zip': '63105'}\n",
      "{'street1': '91 Cityplace', 'street2': 'Suite #33', 'city': 'St. Saiya', 'state': 'MO', 'zip': '63144'}\n",
      "{'street1': 'dfdf oh lala', 'street2': 'Suite and tie', 'city': 'St. Petersburg', 'state': 'MOO', 'zip': '63144'}\n",
      "{'street1': '92 Cityplace', 'street2': 'Suite #33', 'city': 'St. John', 'state': 'MO', 'zip': '63154'}\n",
      "{'street1': '93 Cityplace', 'city': 'St. Louis', 'state': 'MO', 'zip': '63144'}\n"
     ]
    }
   ],
   "source": [
    "a=\"823 Pebble Street, St. Louis, MO 63105\"\n",
    "print(parse_address(a))\n",
    "a=\"91 Cityplace, Suite #33, St. Saiya, MO 63144\"\n",
    "print(parse_address(a))\n",
    "a=\"dfdf oh lala, Suite and tie,St. Petersburg, MOO 63144\"\n",
    "print(parse_address(a))\n",
    "a=\"92 Cityplace, Suite #33, St. John, MO 63154\"\n",
    "print(parse_address(a))\n",
    "a=\"93 Cityplace,St. Louis,MO 63144\"\n",
    "print(parse_address(a))"
   ]
  },
  {
   "cell_type": "markdown",
   "metadata": {},
   "source": [
    "## 38.1 COVID-19 Trend Data\n",
    "\n",
    "Since we're dealing with a global pandemic right now, probably good to go ahead and do some anlysis with that data.  Take a look at what's here: https://ourworldindata.org/covid-sources-comparison\n",
    "\n",
    "Near the middle of the page, there are two charts with some data.  On the left is \"positive cases\" and on the right is \"deaths.\"  Both charts have a button that says \"Data.\"  What you will do below is write a series of Python commands (doesn't need to be in a function) to read that data and produce a simple timeseries chart using the information from John's Hopkins.  Your code will need to read the data, possibly do some reformatting, and then produce a simple timeseries chart.\n",
    "\n",
    "(Unfortunately, the tools used on this website don't make it easy to link to and directly download the data, so I've placed a copy in `/data/covid19.xlsx` for you to access.  This file came from one of the underlying sources: https://www.ecdc.europa.eu/en/publications-data/download-todays-data-geographic-distribution-covid-19-cases-worldwide)"
   ]
  },
  {
   "cell_type": "code",
   "execution_count": 139,
   "metadata": {},
   "outputs": [
    {
     "data": {
      "text/plain": [
       "Text(0.5, 0, 'Date')"
      ]
     },
     "execution_count": 139,
     "metadata": {},
     "output_type": "execute_result"
    },
    {
     "data": {
      "image/png": "[encoded data removed]",
      "text/plain": [
       "<Figure size 432x288 with 1 Axes>"
      ]
     },
     "metadata": {
      "needs_background": "light"
     },
     "output_type": "display_data"
    }
   ],
   "source": [
    "import pandas as pd\n",
    "df=pd.read_excel('/data/covid19.xlsx').groupby('DateRep')['Cases'].sum().cumsum().plot()\n",
    "df.set_ylabel('Cumulative Cases')\n",
    "df.set_xlabel('Date')"
   ]
  },
  {
   "cell_type": "markdown",
   "metadata": {},
   "source": [
    "One hint that you might find helpful while working on this is that the data in this file is the number of cases each week, not the running total.  You will want to plot a running total.\n",
    "\n",
    "To do so, pandas has a `.cumsum()` method that you can use after doing a `groupby` and a `.sum()` somewhat similar to the last example of the pandas-viz.ipynb file (except in that example, it's doing a `mean()` instead of `sum()` and a `rolling()` instead of `cumsum()`.)  This link might also provide a little guidance: https://stackoverflow.com/questions/48739374/pandas-plot-cumulative-sum-of-counters-over-time"
   ]
  },
  {
   "cell_type": "markdown",
   "metadata": {},
   "source": [
    "## Extra Challenges\n",
    "\n",
    "Take the same data, but not start looking at it by country.  Do some groupbys.\n",
    "\n",
    "Or take the same data and look at the mortality rate (deaths / total reported cases) and see how that is different by country or trending over time."
   ]
  },
  {
   "cell_type": "code",
   "execution_count": null,
   "metadata": {},
   "outputs": [],
   "source": []
  }
 ],
 "metadata": {
  "kernelspec": {
   "display_name": "Python 3",
   "language": "python",
   "name": "python3"
  },
  "language_info": {
   "codemirror_mode": {
    "name": "ipython",
    "version": 3
   },
   "file_extension": ".py",
   "mimetype": "text/x-python",
   "name": "python",
   "nbconvert_exporter": "python",
   "pygments_lexer": "ipython3",
   "version": "3.6.7"
  }
 },
 "nbformat": 4,
 "nbformat_minor": 4
}
