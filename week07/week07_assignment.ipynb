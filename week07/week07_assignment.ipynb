{
 "cells": [
  {
   "cell_type": "markdown",
   "metadata": {},
   "source": [
    "# Week 7 Assignment\n",
    "\n",
    "This week has been all about getting information off the internet both in structured data formats (CSV, JSON, etc) as well as HTML.  Answer the questions below as instructed."
   ]
  },
  {
   "cell_type": "markdown",
   "metadata": {},
   "source": [
    "### 31.1 Finding files on the internet\n",
    "\n",
    "Go to healthdata.gov and find a file that looks interesting to you.  Provide the metadata below that describes the file you located.\n",
    "\n",
    "The cell below is a \"markdown\" cell.  Just double-click it to edit the contents and then Shift-Enter to show the content as formatted text.\n",
    "\n",
    "---"
   ]
  },
  {
   "cell_type": "markdown",
   "metadata": {},
   "source": [
    "**File Name:**  wnv_human_cases\n",
    "\n",
    "**URL to Page:** https://healthdata.gov/dataset/west-nile-virus-cases-2006-present\n",
    "\n",
    "**Description:** data contains locations(county in CA) and times that positive cases of West Nile virus found in humans was reported.\n",
    "\n",
    "**URL to Actual File:** https://data.chhs.ca.gov/dataset/3205b420-3f62-4a02-8d2e-9a9ed34c49f4/resource/6ef33c1b-9f54-49f2-a92e-51a1b78f0a06/download/wnv_human_cases.csv\n",
    "\n",
    "**File Format:** CSV\n",
    "\n"
   ]
  },
  {
   "cell_type": "markdown",
   "metadata": {},
   "source": [
    "---"
   ]
  },
  {
   "cell_type": "markdown",
   "metadata": {},
   "source": [
    "### 31.2 Use Pandas to load data from internet\n",
    "\n",
    "Now write a block of code (doesn't need to be in a function) that will load the file using Pandas and describe the shape of the file contents.  I've provided a cell with some comments in it to help get you started.\n",
    "\n",
    "Pandas documentation for loading data https://pandas.pydata.org/pandas-docs/version/0.23.4/api.html#input-output\n",
    "\n",
    "Pandas documentation for describing the shape of data https://pandas.pydata.org/pandas-docs/version/0.23.4/generated/pandas.DataFrame.shape.html"
   ]
  },
  {
   "cell_type": "code",
   "execution_count": 23,
   "metadata": {},
   "outputs": [
    {
     "data": {
      "text/plain": [
       "(1974, 4)"
      ]
     },
     "execution_count": 23,
     "metadata": {},
     "output_type": "execute_result"
    }
   ],
   "source": [
    "import pandas as pd\n",
    "\n",
    "# Load data using one of the read functions depending on your data file type\n",
    "url='https://data.chhs.ca.gov/dataset/3205b420-3f62-4a02-8d2e-9a9ed34c49f4/resource/6ef33c1b-9f54-49f2-a92e-51a1b78f0a06/download/wnv_human_cases.csv'\n",
    "data = pd.read_csv(url)\n",
    "\n",
    "# Print out the row / column count\n",
    "data.shape"
   ]
  },
  {
   "cell_type": "markdown",
   "metadata": {},
   "source": [
    "---"
   ]
  },
  {
   "cell_type": "markdown",
   "metadata": {},
   "source": [
    "### 32.1 HTML Basics\n",
    "\n",
    "HTML is a form of which othere data format we've talked about:\n",
    "\n",
    "> A) Binary\n",
    ">\n",
    "> B) eXtensible Markup Language\n",
    "> \n",
    "> C) JavaScript Object Notation\n",
    ">\n",
    "> D) HL7 FHIR"
   ]
  },
  {
   "cell_type": "code",
   "execution_count": null,
   "metadata": {},
   "outputs": [],
   "source": [
    "answer321 = \"B\""
   ]
  },
  {
   "cell_type": "markdown",
   "metadata": {},
   "source": [
    "### 32.2 Things in HTML\n",
    "\n",
    "Which of the following is **not** a part of HTML:\n",
    "\n",
    "> A) element\n",
    "> \n",
    "> B) tag\n",
    ">\n",
    "> C) dictionary\n",
    ">\n",
    "> D) attribute"
   ]
  },
  {
   "cell_type": "code",
   "execution_count": 24,
   "metadata": {},
   "outputs": [],
   "source": [
    "answer322 = \"C\""
   ]
  },
  {
   "cell_type": "markdown",
   "metadata": {},
   "source": [
    "### 32.3 Parsing HTML in Python\n",
    "\n",
    "Which of the following packages can be used to extract a table of data from HTML using Python (include all that apply in a list):\n",
    "\n",
    "> A) lxml\n",
    "> \n",
    "> B) BeautifulSoup\n",
    ">\n",
    "> C) Pandas \n",
    ">\n",
    "> D) fuzzywuzzy"
   ]
  },
  {
   "cell_type": "code",
   "execution_count": null,
   "metadata": {},
   "outputs": [],
   "source": [
    "answer323 = [\"A\",\"B\",\"C\"]"
   ]
  }
 ],
 "metadata": {
  "kernelspec": {
   "display_name": "Python 3",
   "language": "python",
   "name": "python3"
  },
  "language_info": {
   "codemirror_mode": {
    "name": "ipython",
    "version": 3
   },
   "file_extension": ".py",
   "mimetype": "text/x-python",
   "name": "python",
   "nbconvert_exporter": "python",
   "pygments_lexer": "ipython3",
   "version": "3.6.7"
  }
 },
 "nbformat": 4,
 "nbformat_minor": 4
}
