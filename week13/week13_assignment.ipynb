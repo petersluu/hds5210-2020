{
 "cells": [
  {
   "cell_type": "markdown",
   "metadata": {
    "nbgrader": {
     "grade": false,
     "grade_id": "cell-fc1c39d0d6f8b82a",
     "locked": true,
     "schema_version": 1,
     "solution": false
    }
   },
   "source": [
    "# Descriptive Stats\n",
    "\n",
    "For the questions below, we're going to refer exclusively to an HHCAPS survey data set that is available in `/data/hhcaps.csv`.  Use whatever commands you want to calculate the information required to get to the answer.\n",
    "\n",
    "\n",
    "Put your solution as the last line right before the test cell, using the form shown below for computing the number of rows in a dataframe.\n",
    "\n",
    "```\n",
    "answer = my_df.shape[0]\n",
    "```\n",
    "\n",
    "The assertions will often give you what the final answer should be, but you won't receive any points unless you compute the answer using code.  For instance, if you just typed `answer = 132` for the numer of rows instead of `answer = my_df.shape[0]`, you would not receive credit.\n"
   ]
  },
  {
   "cell_type": "code",
   "execution_count": 584,
   "metadata": {
    "nbgrader": {
     "grade": false,
     "grade_id": "intro",
     "locked": true,
     "schema_version": 1,
     "solution": false
    }
   },
   "outputs": [],
   "source": [
    "%matplotlib inline\n",
    "import pandas as pd\n",
    "\n",
    "hhcaps = pd.read_csv('/data/hhcaps.csv')"
   ]
  },
  {
   "cell_type": "markdown",
   "metadata": {
    "nbgrader": {
     "grade": false,
     "grade_id": "q01-intro",
     "locked": true,
     "schema_version": 1,
     "solution": false
    }
   },
   "source": [
    "## #01 - \n",
    "\n",
    "How many columns does this file contain?"
   ]
  },
  {
   "cell_type": "code",
   "execution_count": 554,
   "metadata": {},
   "outputs": [
    {
     "data": {
      "text/plain": [
       "(12000, 39)"
      ]
     },
     "execution_count": 554,
     "metadata": {},
     "output_type": "execute_result"
    }
   ],
   "source": [
    "hhcaps.shape"
   ]
  },
  {
   "cell_type": "code",
   "execution_count": 555,
   "metadata": {
    "nbgrader": {
     "grade": false,
     "grade_id": "q01-solution",
     "locked": false,
     "schema_version": 1,
     "solution": true
    }
   },
   "outputs": [],
   "source": [
    "## Solution goes here\n",
    "answer = hhcaps.shape[1]"
   ]
  },
  {
   "cell_type": "code",
   "execution_count": 556,
   "metadata": {
    "nbgrader": {
     "grade": true,
     "grade_id": "q01-test",
     "locked": true,
     "points": 2,
     "schema_version": 1,
     "solution": false
    }
   },
   "outputs": [],
   "source": [
    "assert(type(answer) == int)\n",
    "assert(answer == 39)"
   ]
  },
  {
   "cell_type": "code",
   "execution_count": 533,
   "metadata": {},
   "outputs": [],
   "source": [
    "#hhcaps.columns"
   ]
  },
  {
   "cell_type": "markdown",
   "metadata": {
    "nbgrader": {
     "grade": false,
     "grade_id": "q02-intro",
     "locked": true,
     "schema_version": 1,
     "solution": false
    }
   },
   "source": [
    "## #02 - \n",
    "\n",
    "How many different values for State are there in this file?"
   ]
  },
  {
   "cell_type": "code",
   "execution_count": 557,
   "metadata": {
    "nbgrader": {
     "grade": false,
     "grade_id": "q02-solution",
     "locked": false,
     "schema_version": 1,
     "solution": true
    }
   },
   "outputs": [],
   "source": [
    "## Solution goes here\n",
    "answer = len(hhcaps['State'].unique())"
   ]
  },
  {
   "cell_type": "code",
   "execution_count": 535,
   "metadata": {
    "nbgrader": {
     "grade": true,
     "grade_id": "q02-test",
     "locked": true,
     "points": 2,
     "schema_version": 1,
     "solution": false
    }
   },
   "outputs": [],
   "source": [
    "assert(type(answer) == int)\n",
    "assert(answer == 55)"
   ]
  },
  {
   "cell_type": "code",
   "execution_count": null,
   "metadata": {},
   "outputs": [],
   "source": []
  },
  {
   "cell_type": "markdown",
   "metadata": {
    "nbgrader": {
     "grade": false,
     "grade_id": "q03-intro",
     "locked": true,
     "schema_version": 1,
     "solution": false
    }
   },
   "source": [
    "## #03 - \n",
    "\n",
    "Which of those State values has the highest frequency of occurence?"
   ]
  },
  {
   "cell_type": "code",
   "execution_count": 558,
   "metadata": {
    "nbgrader": {
     "grade": false,
     "grade_id": "q03-solution",
     "locked": false,
     "schema_version": 1,
     "solution": true
    }
   },
   "outputs": [],
   "source": [
    "count_state=hhcaps.groupby('State')['State'].agg(['count'])\n",
    "max_val=hhcaps.groupby('State')['State'].agg(['count']).max().values[0]\n",
    "## Solution goes here\n",
    "answer = count_state.index[count_state['count']==max_val].values[0]"
   ]
  },
  {
   "cell_type": "code",
   "execution_count": 177,
   "metadata": {
    "nbgrader": {
     "grade": true,
     "grade_id": "q03-test",
     "locked": true,
     "points": 2,
     "schema_version": 1,
     "solution": false
    }
   },
   "outputs": [],
   "source": [
    "assert(type(answer) == str)\n",
    "assert(answer == 'TX')"
   ]
  },
  {
   "cell_type": "code",
   "execution_count": null,
   "metadata": {},
   "outputs": [],
   "source": []
  },
  {
   "cell_type": "markdown",
   "metadata": {
    "nbgrader": {
     "grade": false,
     "grade_id": "q04-intro",
     "locked": true,
     "schema_version": 1,
     "solution": false
    }
   },
   "source": [
    "## #04 - \n",
    "\n",
    "Which of those State values has the best average performance on the `Star Rating for health team communicated well with them` score?"
   ]
  },
  {
   "cell_type": "code",
   "execution_count": 559,
   "metadata": {
    "nbgrader": {
     "grade": false,
     "grade_id": "q04-solution",
     "locked": false,
     "schema_version": 1,
     "solution": true
    }
   },
   "outputs": [],
   "source": [
    "avg=hhcaps.groupby('State')['Star Rating for health team communicated well with them'].mean()\n",
    "## Solution goes here\n",
    "answer = avg.idxmax()"
   ]
  },
  {
   "cell_type": "code",
   "execution_count": 541,
   "metadata": {
    "nbgrader": {
     "grade": true,
     "grade_id": "q04-test",
     "locked": true,
     "points": 2,
     "schema_version": 1,
     "solution": false
    }
   },
   "outputs": [],
   "source": [
    "assert(type(answer) == str)\n",
    "assert(answer == 'ME')"
   ]
  },
  {
   "cell_type": "code",
   "execution_count": null,
   "metadata": {},
   "outputs": [],
   "source": [
    "#avg[avg==avg.max()].index[0]"
   ]
  },
  {
   "cell_type": "markdown",
   "metadata": {
    "nbgrader": {
     "grade": false,
     "grade_id": "q05-intro",
     "locked": true,
     "schema_version": 1,
     "solution": false
    }
   },
   "source": [
    "## #05 - \n",
    "\n",
    "What was the average score on `Star Rating for how patients rated overall care from agency` for providers listed as having a `Type of Ownership` of `Hospital Based Program`"
   ]
  },
  {
   "cell_type": "code",
   "execution_count": 560,
   "metadata": {
    "nbgrader": {
     "grade": false,
     "grade_id": "q05-solution",
     "locked": false,
     "schema_version": 1,
     "solution": true
    }
   },
   "outputs": [],
   "source": [
    "## Solution goes here\n",
    "answer = hhcaps[hhcaps['Type of Ownership']=='Hospital Based Program']['Star Rating for how patients rated overall care from agency'].mean()"
   ]
  },
  {
   "cell_type": "code",
   "execution_count": 561,
   "metadata": {
    "nbgrader": {
     "grade": true,
     "grade_id": "q05-test",
     "locked": true,
     "points": 2,
     "schema_version": 1,
     "solution": false
    }
   },
   "outputs": [],
   "source": [
    "import numpy\n",
    "assert(type(answer) == float or type(answer) == numpy.float64)\n",
    "assert(round(answer,5) == round(3.6925207756232687,5))"
   ]
  },
  {
   "cell_type": "code",
   "execution_count": null,
   "metadata": {},
   "outputs": [],
   "source": []
  },
  {
   "cell_type": "markdown",
   "metadata": {
    "nbgrader": {
     "grade": false,
     "grade_id": "q06-intro",
     "locked": true,
     "schema_version": 1,
     "solution": false
    }
   },
   "source": [
    "## #06 - \n",
    "\n",
    "There is one column in the file that has the same value on every row.  What is the name of that column?"
   ]
  },
  {
   "cell_type": "code",
   "execution_count": 562,
   "metadata": {
    "nbgrader": {
     "grade": false,
     "grade_id": "q06-solution",
     "locked": false,
     "schema_version": 1,
     "solution": true
    }
   },
   "outputs": [],
   "source": [
    "for column in hhcaps.columns:\n",
    "    if len(hhcaps[column].unique())==1:\n",
    "## Solution goes here        \n",
    "        answer=column"
   ]
  },
  {
   "cell_type": "code",
   "execution_count": 563,
   "metadata": {
    "nbgrader": {
     "grade": true,
     "grade_id": "q06-test",
     "locked": true,
     "points": 2,
     "schema_version": 1,
     "solution": false
    }
   },
   "outputs": [],
   "source": [
    "assert(type(answer) == str)\n",
    "assert(answer.lower() == 'Offers Nursing Care Services'.lower())"
   ]
  },
  {
   "cell_type": "code",
   "execution_count": null,
   "metadata": {},
   "outputs": [],
   "source": []
  },
  {
   "cell_type": "markdown",
   "metadata": {
    "nbgrader": {
     "grade": false,
     "grade_id": "q07-intro",
     "locked": true,
     "schema_version": 1,
     "solution": false
    }
   },
   "source": [
    "## #07 - \n",
    "\n",
    "There are six (6) columns in the file that indicate (True or False) if the provider offers certain services.  Those column names all start with `Offers...`.  How many facilities offer **everything** that the survey was interested in asking about?  That is, how many rows have True in all six of those columns?"
   ]
  },
  {
   "cell_type": "code",
   "execution_count": 564,
   "metadata": {
    "nbgrader": {
     "grade": false,
     "grade_id": "q07-solution",
     "locked": false,
     "schema_version": 1,
     "solution": true
    }
   },
   "outputs": [
    {
     "data": {
      "text/plain": [
       "9029"
      ]
     },
     "execution_count": 564,
     "metadata": {},
     "output_type": "execute_result"
    }
   ],
   "source": [
    "import re\n",
    "\n",
    "column=hhcaps.columns.unique()\n",
    "boo=bool(1);\n",
    "for title in column:\n",
    "    if re.search(r'(Offers)',title)!= None:\n",
    "        boo=boo & (hhcaps[title]==True)\n",
    "## Solution goes here\n",
    "answer = len(boo[boo==True])"
   ]
  },
  {
   "cell_type": "code",
   "execution_count": 565,
   "metadata": {
    "nbgrader": {
     "grade": true,
     "grade_id": "q07-test",
     "locked": true,
     "points": 2,
     "schema_version": 1,
     "solution": false
    }
   },
   "outputs": [],
   "source": [
    "assert(type(answer) == int)\n",
    "assert(answer == 9029)"
   ]
  },
  {
   "cell_type": "code",
   "execution_count": null,
   "metadata": {},
   "outputs": [],
   "source": []
  },
  {
   "cell_type": "markdown",
   "metadata": {
    "nbgrader": {
     "grade": false,
     "grade_id": "q08-intro",
     "locked": true,
     "schema_version": 1,
     "solution": false
    }
   },
   "source": [
    "## #08 - \n",
    "\n",
    "The survey results report `Number of completed Surveys` as one of the metrics.  What is the `median` of the number of completed surveys per facility?\n",
    "\n",
    "Note that some rows don't have a valid number in them for the number of completed surveys.\n"
   ]
  },
  {
   "cell_type": "code",
   "execution_count": 566,
   "metadata": {
    "nbgrader": {
     "grade": false,
     "grade_id": "q08-solution",
     "locked": false,
     "schema_version": 1,
     "solution": true
    }
   },
   "outputs": [],
   "source": [
    "answer = hhcaps['Number of completed Surveys'][hhcaps['Number of completed Surveys']!='Not Available'].agg(['median'])[0]\n",
    "## Solution goes here"
   ]
  },
  {
   "cell_type": "code",
   "execution_count": 567,
   "metadata": {
    "nbgrader": {
     "grade": true,
     "grade_id": "q08-test",
     "locked": true,
     "points": 2,
     "schema_version": 1,
     "solution": false
    }
   },
   "outputs": [],
   "source": [
    "assert(type(answer) == float or type(answer) == numpy.float64)\n",
    "assert(answer == 84)"
   ]
  },
  {
   "cell_type": "code",
   "execution_count": null,
   "metadata": {},
   "outputs": [],
   "source": []
  },
  {
   "cell_type": "markdown",
   "metadata": {
    "nbgrader": {
     "grade": false,
     "grade_id": "q09-intro",
     "locked": true,
     "schema_version": 1,
     "solution": false
    }
   },
   "source": [
    "## #09 - \n",
    "\n",
    "How many providers are there from St. Louis, Missouri?\n",
    "\n",
    "*Note that the City columnd may have trailing spaces that need to be accomodated or cleaned up*"
   ]
  },
  {
   "cell_type": "code",
   "execution_count": 568,
   "metadata": {
    "nbgrader": {
     "grade": false,
     "grade_id": "q09-solution",
     "locked": false,
     "schema_version": 1,
     "solution": true
    }
   },
   "outputs": [],
   "source": [
    "answer=len(hhcaps['City'][hhcaps['City'].str.contains('^ *SAINT LOUIS *$', regex=True)])\n",
    "## Solution goes here"
   ]
  },
  {
   "cell_type": "code",
   "execution_count": 570,
   "metadata": {
    "nbgrader": {
     "grade": true,
     "grade_id": "q09-test",
     "locked": true,
     "points": 2,
     "schema_version": 1,
     "solution": false
    }
   },
   "outputs": [],
   "source": [
    "assert(type(answer) == int)\n",
    "assert(answer == 23)"
   ]
  },
  {
   "cell_type": "code",
   "execution_count": null,
   "metadata": {},
   "outputs": [],
   "source": []
  },
  {
   "cell_type": "markdown",
   "metadata": {
    "nbgrader": {
     "grade": false,
     "grade_id": "q10-intro",
     "locked": true,
     "schema_version": 1,
     "solution": false
    }
   },
   "source": [
    "# #10 - \n",
    "\n",
    "Which state got the highest percentage of 'top box' scorings, using the `Percent of patients who gave their home health agency a rating of 9 or 10 on a scale from 0 (lowest) to 10 (highest)` field.\n",
    "\n",
    "Ignore those rows where the data is **Not Available**"
   ]
  },
  {
   "cell_type": "code",
   "execution_count": 592,
   "metadata": {},
   "outputs": [
    {
     "name": "stderr",
     "output_type": "stream",
     "text": [
      "/opt/tljh/user/lib/python3.6/site-packages/ipykernel_launcher.py:3: SettingWithCopyWarning: \n",
      "A value is trying to be set on a copy of a slice from a DataFrame.\n",
      "Try using .loc[row_indexer,col_indexer] = value instead\n",
      "\n",
      "See the caveats in the documentation: http://pandas.pydata.org/pandas-docs/stable/user_guide/indexing.html#returning-a-view-versus-a-copy\n",
      "  This is separate from the ipykernel package so we can avoid doing imports until\n",
      "/opt/tljh/user/lib/python3.6/site-packages/ipykernel_launcher.py:4: SettingWithCopyWarning: \n",
      "A value is trying to be set on a copy of a slice from a DataFrame.\n",
      "Try using .loc[row_indexer,col_indexer] = value instead\n",
      "\n",
      "See the caveats in the documentation: http://pandas.pydata.org/pandas-docs/stable/user_guide/indexing.html#returning-a-view-versus-a-copy\n",
      "  after removing the cwd from sys.path.\n",
      "/opt/tljh/user/lib/python3.6/site-packages/ipykernel_launcher.py:5: SettingWithCopyWarning: \n",
      "A value is trying to be set on a copy of a slice from a DataFrame.\n",
      "Try using .loc[row_indexer,col_indexer] = value instead\n",
      "\n",
      "See the caveats in the documentation: http://pandas.pydata.org/pandas-docs/stable/user_guide/indexing.html#returning-a-view-versus-a-copy\n",
      "  \"\"\"\n"
     ]
    }
   ],
   "source": [
    "field = 'Percent of patients who gave their home health agency a rating of 9 or 10 on a scale from 0 (lowest) to 10 (highest)'\n",
    "hhcaps2=hhcaps[hhcaps[field]!='Not Available']\n",
    "hhcaps2[field]=hhcaps2[field].astype(int)\n",
    "hhcaps2['Number of completed Surveys']=hhcaps2['Number of completed Surveys'].astype(int)\n",
    "hhcaps2['Gross Percent']=hhcaps2[field]*hhcaps2['Number of completed Surveys']\n",
    "sum_gross=hhcaps2.groupby('State')['Gross Percent'].sum()\n",
    "total_survey=hhcaps2.groupby('State')['Number of completed Surveys'].sum()\n",
    "## Solution goes here\n",
    "answer=(sum_gross/total_survey).idxmax()"
   ]
  },
  {
   "cell_type": "code",
   "execution_count": 593,
   "metadata": {
    "nbgrader": {
     "grade": true,
     "grade_id": "q10-test",
     "locked": true,
     "points": 2,
     "schema_version": 1,
     "solution": false
    }
   },
   "outputs": [],
   "source": [
    "assert(type(answer) == str)\n",
    "assert(answer == 'MS')"
   ]
  },
  {
   "cell_type": "code",
   "execution_count": null,
   "metadata": {},
   "outputs": [],
   "source": []
  }
 ],
 "metadata": {
  "celltoolbar": "Create Assignment",
  "kernelspec": {
   "display_name": "Python 3",
   "language": "python",
   "name": "python3"
  },
  "language_info": {
   "codemirror_mode": {
    "name": "ipython",
    "version": 3
   },
   "file_extension": ".py",
   "mimetype": "text/x-python",
   "name": "python",
   "nbconvert_exporter": "python",
   "pygments_lexer": "ipython3",
   "version": "3.6.7"
  }
 },
 "nbformat": 4,
 "nbformat_minor": 2
}
